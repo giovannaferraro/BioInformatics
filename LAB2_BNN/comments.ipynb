{
 "cells": [
  {
   "cell_type": "markdown",
   "metadata": {},
   "source": [
    "**mean**: only if the distribution is gaussian. And in general it doesn't represent the real mean because if we have two mean values \n",
    "\n",
    "**median**: better finds the peak of the distribution\n",
    "\n",
    "even better, we can use the probability distribution as it gives back peak and probability."
   ]
  },
  {
   "cell_type": "markdown",
   "metadata": {},
   "source": [
    "Given a gene expression matrix, generally, we have to perform:\n",
    "\n",
    "- biological normalization, and in this case is already done\n",
    "- AI normalization, which is what we have to do now\n",
    "\n",
    "How? StandardScaler.\n",
    "\n",
    "And everytime plot your data to see what happens before and after scalation.\n",
    "\n",
    "You can also fit normalization on the train set and then transform on the test."
   ]
  },
  {
   "cell_type": "markdown",
   "metadata": {},
   "source": [
    "**PCA**\n",
    "\n",
    "it's ok to perform it as biological data are tons and the gene expression is quite long. You cannot create an embedding based on very long features."
   ]
  },
  {
   "cell_type": "markdown",
   "metadata": {},
   "source": [
    "Linear first and dropout after."
   ]
  },
  {
   "cell_type": "markdown",
   "metadata": {},
   "source": [
    "the output of the BNN is the peak and the probability distribution"
   ]
  },
  {
   "cell_type": "markdown",
   "metadata": {},
   "source": [
    "Active dropout in the inference moment, that's the way to pretrain the network.\n",
    "test network in different information and know if the network is stable or not. If the output changes a lot by using different neurons than it means that the network is not confident about the result"
   ]
  }
 ],
 "metadata": {
  "language_info": {
   "name": "python"
  }
 },
 "nbformat": 4,
 "nbformat_minor": 2
}
