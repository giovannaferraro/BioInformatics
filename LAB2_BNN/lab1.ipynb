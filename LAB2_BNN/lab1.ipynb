{
 "cells": [
  {
   "cell_type": "code",
   "execution_count": 75,
   "metadata": {},
   "outputs": [],
   "source": [
    "import pandas as pd\n",
    "import numpy as np\n",
    "from sklearn.preprocessing import StandardScaler\n",
    "from torch.utils.data import Dataset, DataLoader\n",
    "from sklearn.preprocessing import OrdinalEncoder\n",
    "from sklearn.model_selection import train_test_split\n",
    "import matplotlib.pyplot as plt\n",
    "import torch\n",
    "import torch.nn as nn"
   ]
  },
  {
   "cell_type": "markdown",
   "metadata": {},
   "source": [
    "## Preprocessing of the dataset"
   ]
  },
  {
   "cell_type": "code",
   "execution_count": 76,
   "metadata": {},
   "outputs": [],
   "source": [
    "#split dataset\n",
    "path = \"/Users/giovanna/Desktop/Magistrale/SecondoAnno/AIBioInfo/Labs/LAB2_BNN/dataset_LUMINAL_A_B.csv\"\n",
    "test_df = pd.read_csv(path)"
   ]
  },
  {
   "cell_type": "markdown",
   "metadata": {},
   "source": [
    "first way to encode the labels"
   ]
  },
  {
   "cell_type": "code",
   "execution_count": 77,
   "metadata": {},
   "outputs": [],
   "source": [
    "test_df['l'] = test_df['l'].str.replace(r'\\s+', '', regex=True)\n",
    "label_mapping = {\n",
    "    'LuminalB': 1.0,\n",
    "    'LuminalA': 0.0,\n",
    "}\n",
    "\n",
    "test_df['l'] = test_df['l'].map(label_mapping)\n",
    "test_df = test_df.sample(frac=1).reset_index(drop=True)"
   ]
  },
  {
   "cell_type": "markdown",
   "metadata": {},
   "source": [
    "Extract X and y from the dataset"
   ]
  },
  {
   "cell_type": "code",
   "execution_count": 78,
   "metadata": {},
   "outputs": [],
   "source": [
    "y = test_df['l']\n",
    "X = test_df.drop('l', axis=1)\n",
    "scaler = StandardScaler()\n",
    "X = scaler.fit_transform(X)\n"
   ]
  },
  {
   "cell_type": "markdown",
   "metadata": {},
   "source": [
    "Now split the dataset and scale train and test"
   ]
  },
  {
   "cell_type": "code",
   "execution_count": 79,
   "metadata": {},
   "outputs": [],
   "source": [
    "# now split dataset into train and test\n",
    "from sklearn.preprocessing import StandardScaler\n",
    "X_train, X_test, y_train, y_test = train_test_split(X, y, test_size=0.2, random_state=42)\n",
    "\n",
    "#scaler = StandardScaler()\n",
    "#X_train = scaler.fit_transform(X_train)\n",
    "#X_test = scaler.transform(X_test)"
   ]
  },
  {
   "cell_type": "markdown",
   "metadata": {},
   "source": [
    "Performing dimensionality reduction as the features are a lot and it's unfeaseable to train a model on such a huge dataset"
   ]
  },
  {
   "cell_type": "code",
   "execution_count": 80,
   "metadata": {},
   "outputs": [],
   "source": [
    "from sklearn.decomposition import PCA\n",
    "pca = PCA(n_components=80)\n",
    "X_train_pca = pca.fit_transform(X_train).astype(np.float32)\n",
    "X_test_pca = pca.transform(X_test).astype(np.float32)   "
   ]
  },
  {
   "cell_type": "markdown",
   "metadata": {},
   "source": [
    "transforming data from numpy to tensors"
   ]
  },
  {
   "cell_type": "code",
   "execution_count": 81,
   "metadata": {},
   "outputs": [],
   "source": [
    "X_train_t = torch.from_numpy(X_train_pca)\n",
    "X_test_t = torch.from_numpy(X_test_pca)\n",
    "y_train_t = torch.from_numpy(y_train.values)\n",
    "y_test_t = torch.from_numpy(y_test.values)"
   ]
  },
  {
   "cell_type": "markdown",
   "metadata": {},
   "source": [
    "## Dataloader"
   ]
  },
  {
   "cell_type": "code",
   "execution_count": 82,
   "metadata": {},
   "outputs": [],
   "source": [
    "from torch.utils.data import TensorDataset, DataLoader\n",
    "\n",
    "train_dataset = TensorDataset(X_train_t, y_train_t)\n",
    "test_dataset = TensorDataset(X_test_t, y_test_t)\n",
    "batchsize = 8\n",
    "train_dataloader = DataLoader(train_dataset, batch_size=batchsize, shuffle=True)\n",
    "test_dataloader = DataLoader(test_dataset, batch_size=batchsize, shuffle=False)"
   ]
  },
  {
   "cell_type": "markdown",
   "metadata": {},
   "source": [
    "## Model"
   ]
  },
  {
   "cell_type": "code",
   "execution_count": 88,
   "metadata": {},
   "outputs": [
    {
     "name": "stdout",
     "output_type": "stream",
     "text": [
      "BNN(\n",
      "  (model): Sequential(\n",
      "    (0): Linear(in_features=80, out_features=200, bias=True)\n",
      "    (1): BatchNorm1d(200, eps=1e-05, momentum=0.1, affine=True, track_running_stats=True)\n",
      "    (2): ReLU()\n",
      "    (3): Dropout(p=0.3, inplace=False)\n",
      "    (4): Linear(in_features=200, out_features=75, bias=True)\n",
      "    (5): BatchNorm1d(75, eps=1e-05, momentum=0.1, affine=True, track_running_stats=True)\n",
      "    (6): ReLU()\n",
      "    (7): Dropout(p=0.3, inplace=False)\n",
      "    (8): Linear(in_features=75, out_features=1, bias=True)\n",
      "    (9): Sigmoid()\n",
      "  )\n",
      ")\n"
     ]
    }
   ],
   "source": [
    "import torch\n",
    "import torch.nn as nn\n",
    "import torch.optim as optim\n",
    "\n",
    "device = torch.device('cuda' if torch.cuda.is_available() else 'cpu')\n",
    "num_features = X_train_t.shape[1]\n",
    "hidden1 = 200\n",
    "hidden2 = 75\n",
    "output = 1\n",
    "\n",
    "class BNN(nn.Module):\n",
    "    def __init__(self):\n",
    "        super(BNN, self).__init__()\n",
    "        self.model = nn.Sequential(\n",
    "            nn.Linear(num_features, hidden1),\n",
    "            nn.BatchNorm1d(hidden1),\n",
    "            nn.ReLU(),\n",
    "            nn.Dropout(p=0.3),\n",
    "            nn.Linear(hidden1, hidden2),\n",
    "            nn.BatchNorm1d(hidden2),\n",
    "            nn.ReLU(),\n",
    "            nn.Dropout(p=0.3),\n",
    "            nn.Linear(hidden2, output),\n",
    "            nn.Sigmoid()\n",
    "        )\n",
    "\n",
    "    def forward(self, X):\n",
    "        return self.model(X)\n",
    "\n",
    "model = BNN()\n",
    "print(model)"
   ]
  },
  {
   "cell_type": "code",
   "execution_count": 89,
   "metadata": {},
   "outputs": [],
   "source": [
    "loss_fn = nn.BCELoss()\n",
    "optimizer = optim.Adam(model.parameters(), lr=0.001)\n",
    "epochs = 100"
   ]
  },
  {
   "cell_type": "code",
   "execution_count": 90,
   "metadata": {},
   "outputs": [],
   "source": [
    "def eval_acc(mlp: nn.Module, data_loader: torch.utils.data.DataLoader):\n",
    "  \n",
    "  correct = 0\n",
    "  total = 0\n",
    "  \n",
    "  with torch.no_grad():\n",
    "    for x, y in data_loader:\n",
    "      y_pred = model(x)\n",
    "      # print(y_pred)\n",
    "      y_pred_discr = torch.round(y_pred)\n",
    "      # print(y_pred_discr)\n",
    "      # print(y_pred.shape, y_pred_discr.shape, y.shape)\n",
    "      acc = torch.sum((y_pred_discr == y).float()) \n",
    "      correct += acc\n",
    "      total += y_pred.size(0)\n",
    "  \n",
    "  return correct/total"
   ]
  },
  {
   "cell_type": "markdown",
   "metadata": {},
   "source": [
    "Now starts the actual training of the network"
   ]
  },
  {
   "cell_type": "code",
   "execution_count": 91,
   "metadata": {},
   "outputs": [
    {
     "name": "stdout",
     "output_type": "stream",
     "text": [
      "Epoch 0 train accuracy: 3.799999952316284 test accuracy: 3.700000047683716\n",
      "Epoch: 1 \tTraining Loss: 0.704822\n",
      "Epoch 1 train accuracy: 4.099999904632568 test accuracy: 3.700000047683716\n",
      "Epoch: 2 \tTraining Loss: 0.609487\n",
      "Epoch 2 train accuracy: 4.150000095367432 test accuracy: 3.5999999046325684\n",
      "Epoch: 3 \tTraining Loss: 0.485352\n",
      "Epoch 3 train accuracy: 3.875 test accuracy: 3.5999999046325684\n",
      "Epoch: 4 \tTraining Loss: 0.483693\n",
      "Epoch 4 train accuracy: 4.224999904632568 test accuracy: 3.700000047683716\n",
      "Epoch: 5 \tTraining Loss: 0.442454\n",
      "Epoch 5 train accuracy: 4.300000190734863 test accuracy: 3.700000047683716\n",
      "Epoch: 6 \tTraining Loss: 0.259077\n",
      "Epoch 6 train accuracy: 4.150000095367432 test accuracy: 3.5999999046325684\n",
      "Epoch: 7 \tTraining Loss: 0.338176\n",
      "Epoch 7 train accuracy: 4.199999809265137 test accuracy: 3.5\n",
      "Epoch: 8 \tTraining Loss: 0.274356\n",
      "Epoch 8 train accuracy: 4.349999904632568 test accuracy: 3.5999999046325684\n",
      "Epoch: 9 \tTraining Loss: 0.161795\n",
      "Epoch 9 train accuracy: 4.300000190734863 test accuracy: 3.5999999046325684\n",
      "Epoch: 10 \tTraining Loss: 0.168044\n",
      "Epoch 10 train accuracy: 4.25 test accuracy: 3.5999999046325684\n",
      "Epoch: 11 \tTraining Loss: 0.167213\n",
      "Epoch 11 train accuracy: 4.324999809265137 test accuracy: 3.5999999046325684\n",
      "Epoch: 12 \tTraining Loss: 0.128909\n",
      "Epoch 12 train accuracy: 4.449999809265137 test accuracy: 3.5999999046325684\n",
      "Epoch: 13 \tTraining Loss: 0.202757\n",
      "Epoch 13 train accuracy: 4.474999904632568 test accuracy: 3.5999999046325684\n",
      "Epoch: 14 \tTraining Loss: 0.089078\n",
      "Epoch 14 train accuracy: 4.550000190734863 test accuracy: 3.5999999046325684\n",
      "Epoch: 15 \tTraining Loss: 0.062872\n",
      "Epoch 15 train accuracy: 4.324999809265137 test accuracy: 3.5\n",
      "Epoch: 16 \tTraining Loss: 0.177237\n",
      "Epoch 16 train accuracy: 4.449999809265137 test accuracy: 3.5\n",
      "Epoch: 17 \tTraining Loss: 0.048586\n",
      "Epoch 17 train accuracy: 4.474999904632568 test accuracy: 3.5\n",
      "Epoch: 18 \tTraining Loss: 0.062945\n",
      "Epoch 18 train accuracy: 4.525000095367432 test accuracy: 3.5999999046325684\n",
      "Epoch: 19 \tTraining Loss: 0.046563\n",
      "Epoch 19 train accuracy: 4.425000190734863 test accuracy: 3.5999999046325684\n",
      "Epoch: 20 \tTraining Loss: 0.067503\n",
      "Epoch 20 train accuracy: 4.599999904632568 test accuracy: 3.5\n",
      "Epoch: 21 \tTraining Loss: 0.037052\n",
      "Epoch 21 train accuracy: 4.375 test accuracy: 3.5999999046325684\n",
      "Epoch: 22 \tTraining Loss: 0.038274\n",
      "Epoch 22 train accuracy: 4.425000190734863 test accuracy: 3.5\n",
      "Epoch: 23 \tTraining Loss: 0.071007\n",
      "Epoch 23 train accuracy: 4.175000190734863 test accuracy: 3.5\n",
      "Epoch: 24 \tTraining Loss: 0.048441\n",
      "Epoch 24 train accuracy: 4.650000095367432 test accuracy: 3.5\n",
      "Epoch: 25 \tTraining Loss: 0.056986\n",
      "Epoch 25 train accuracy: 4.449999809265137 test accuracy: 3.5999999046325684\n",
      "Epoch: 26 \tTraining Loss: 0.024169\n",
      "Epoch 26 train accuracy: 4.375 test accuracy: 3.5\n",
      "Epoch: 27 \tTraining Loss: 0.225950\n",
      "Epoch 27 train accuracy: 4.474999904632568 test accuracy: 3.5999999046325684\n",
      "Epoch: 28 \tTraining Loss: 0.014869\n",
      "Epoch 28 train accuracy: 4.425000190734863 test accuracy: 3.5\n",
      "Epoch: 29 \tTraining Loss: 0.055035\n",
      "Epoch 29 train accuracy: 4.625 test accuracy: 3.5999999046325684\n",
      "Epoch: 30 \tTraining Loss: 0.101268\n",
      "Epoch 30 train accuracy: 4.425000190734863 test accuracy: 3.5\n",
      "Epoch: 31 \tTraining Loss: 0.055033\n",
      "Epoch 31 train accuracy: 4.375 test accuracy: 3.5\n",
      "Epoch: 32 \tTraining Loss: 0.037686\n",
      "Epoch 32 train accuracy: 4.474999904632568 test accuracy: 3.5999999046325684\n",
      "Epoch: 33 \tTraining Loss: 0.012569\n",
      "Epoch 33 train accuracy: 4.25 test accuracy: 3.5999999046325684\n",
      "Epoch: 34 \tTraining Loss: 0.022617\n",
      "Epoch 34 train accuracy: 4.599999904632568 test accuracy: 3.5\n",
      "Epoch: 35 \tTraining Loss: 0.024903\n",
      "Epoch 35 train accuracy: 4.425000190734863 test accuracy: 3.5\n",
      "Epoch: 36 \tTraining Loss: 0.087445\n",
      "Epoch 36 train accuracy: 4.275000095367432 test accuracy: 3.5999999046325684\n",
      "Epoch: 37 \tTraining Loss: 0.045375\n",
      "Epoch 37 train accuracy: 4.375 test accuracy: 3.5\n",
      "Epoch: 38 \tTraining Loss: 0.049700\n",
      "Epoch 38 train accuracy: 4.550000190734863 test accuracy: 3.5\n",
      "Epoch: 39 \tTraining Loss: 0.013449\n",
      "Epoch 39 train accuracy: 4.375 test accuracy: 3.5999999046325684\n",
      "Epoch: 40 \tTraining Loss: 0.015875\n",
      "Epoch 40 train accuracy: 4.574999809265137 test accuracy: 3.5999999046325684\n",
      "Epoch: 41 \tTraining Loss: 0.021329\n",
      "Epoch 41 train accuracy: 4.525000095367432 test accuracy: 3.5999999046325684\n",
      "Epoch: 42 \tTraining Loss: 0.080322\n",
      "Epoch 42 train accuracy: 4.375 test accuracy: 3.5999999046325684\n",
      "Epoch: 43 \tTraining Loss: 0.245347\n",
      "Epoch 43 train accuracy: 4.275000095367432 test accuracy: 3.700000047683716\n",
      "Epoch: 44 \tTraining Loss: 0.007110\n",
      "Epoch 44 train accuracy: 4.275000095367432 test accuracy: 3.5999999046325684\n",
      "Epoch: 45 \tTraining Loss: 0.022586\n",
      "Epoch 45 train accuracy: 4.375 test accuracy: 3.5999999046325684\n",
      "Epoch: 46 \tTraining Loss: 0.015274\n",
      "Epoch 46 train accuracy: 4.550000190734863 test accuracy: 3.5999999046325684\n",
      "Epoch: 47 \tTraining Loss: 0.046166\n",
      "Epoch 47 train accuracy: 4.324999809265137 test accuracy: 3.5\n",
      "Epoch: 48 \tTraining Loss: 0.051196\n",
      "Epoch 48 train accuracy: 4.099999904632568 test accuracy: 3.5\n",
      "Epoch: 49 \tTraining Loss: 0.003019\n",
      "Epoch 49 train accuracy: 4.224999904632568 test accuracy: 3.5999999046325684\n",
      "Epoch: 50 \tTraining Loss: 0.004743\n",
      "Epoch 50 train accuracy: 4.875 test accuracy: 3.5\n",
      "Epoch: 51 \tTraining Loss: 0.006298\n",
      "Epoch 51 train accuracy: 4.574999809265137 test accuracy: 3.5\n",
      "Epoch: 52 \tTraining Loss: 0.006933\n",
      "Epoch 52 train accuracy: 4.775000095367432 test accuracy: 3.5\n",
      "Epoch: 53 \tTraining Loss: 0.007686\n",
      "Epoch 53 train accuracy: 4.625 test accuracy: 3.5\n",
      "Epoch: 54 \tTraining Loss: 0.006394\n",
      "Epoch 54 train accuracy: 4.900000095367432 test accuracy: 3.5999999046325684\n",
      "Epoch: 55 \tTraining Loss: 0.006819\n",
      "Epoch 55 train accuracy: 4.675000190734863 test accuracy: 3.5999999046325684\n",
      "Epoch: 56 \tTraining Loss: 0.007051\n",
      "Epoch 56 train accuracy: 4.175000190734863 test accuracy: 3.5999999046325684\n",
      "Epoch: 57 \tTraining Loss: 0.006080\n",
      "Epoch 57 train accuracy: 4.175000190734863 test accuracy: 3.5999999046325684\n",
      "Epoch: 58 \tTraining Loss: 0.010852\n",
      "Epoch 58 train accuracy: 4.574999809265137 test accuracy: 3.5\n",
      "Epoch: 59 \tTraining Loss: 0.029458\n",
      "Epoch 59 train accuracy: 4.324999809265137 test accuracy: 3.5999999046325684\n",
      "Epoch: 60 \tTraining Loss: 0.053538\n",
      "Epoch 60 train accuracy: 4.425000190734863 test accuracy: 3.5\n",
      "Epoch: 61 \tTraining Loss: 0.005087\n",
      "Epoch 61 train accuracy: 4.474999904632568 test accuracy: 3.5999999046325684\n",
      "Epoch: 62 \tTraining Loss: 0.017062\n",
      "Epoch 62 train accuracy: 4.324999809265137 test accuracy: 3.5999999046325684\n",
      "Epoch: 63 \tTraining Loss: 0.020901\n",
      "Epoch 63 train accuracy: 4.324999809265137 test accuracy: 3.5999999046325684\n",
      "Epoch: 64 \tTraining Loss: 0.005092\n",
      "Epoch 64 train accuracy: 4.699999809265137 test accuracy: 3.5999999046325684\n",
      "Epoch: 65 \tTraining Loss: 0.067732\n",
      "Epoch 65 train accuracy: 4.550000190734863 test accuracy: 3.5999999046325684\n",
      "Epoch: 66 \tTraining Loss: 0.004393\n",
      "Epoch 66 train accuracy: 4.574999809265137 test accuracy: 3.5\n",
      "Epoch: 67 \tTraining Loss: 0.002146\n",
      "Epoch 67 train accuracy: 4.324999809265137 test accuracy: 3.5999999046325684\n",
      "Epoch: 68 \tTraining Loss: 0.008675\n",
      "Epoch 68 train accuracy: 4.525000095367432 test accuracy: 3.5\n",
      "Epoch: 69 \tTraining Loss: 0.008915\n",
      "Epoch 69 train accuracy: 4.425000190734863 test accuracy: 3.5999999046325684\n",
      "Epoch: 70 \tTraining Loss: 0.002853\n",
      "Epoch 70 train accuracy: 4.574999809265137 test accuracy: 3.5\n",
      "Epoch: 71 \tTraining Loss: 0.004660\n",
      "Epoch 71 train accuracy: 4.425000190734863 test accuracy: 3.5\n",
      "Epoch: 72 \tTraining Loss: 0.127292\n",
      "Epoch 72 train accuracy: 4.425000190734863 test accuracy: 3.5\n",
      "Epoch: 73 \tTraining Loss: 0.007861\n",
      "Epoch 73 train accuracy: 4.449999809265137 test accuracy: 3.5\n",
      "Epoch: 74 \tTraining Loss: 0.010280\n",
      "Epoch 74 train accuracy: 4.550000190734863 test accuracy: 3.5999999046325684\n",
      "Epoch: 75 \tTraining Loss: 0.005825\n",
      "Epoch 75 train accuracy: 4.474999904632568 test accuracy: 3.5999999046325684\n",
      "Epoch: 76 \tTraining Loss: 0.009930\n",
      "Epoch 76 train accuracy: 4.425000190734863 test accuracy: 3.5\n",
      "Epoch: 77 \tTraining Loss: 0.010554\n",
      "Epoch 77 train accuracy: 4.275000095367432 test accuracy: 3.5\n",
      "Epoch: 78 \tTraining Loss: 0.008055\n",
      "Epoch 78 train accuracy: 4.574999809265137 test accuracy: 3.5\n",
      "Epoch: 79 \tTraining Loss: 0.010370\n",
      "Epoch 79 train accuracy: 4.275000095367432 test accuracy: 3.5\n",
      "Epoch: 80 \tTraining Loss: 0.021117\n",
      "Epoch 80 train accuracy: 4.074999809265137 test accuracy: 3.5\n",
      "Epoch: 81 \tTraining Loss: 0.006845\n",
      "Epoch 81 train accuracy: 4.425000190734863 test accuracy: 3.5\n",
      "Epoch: 82 \tTraining Loss: 0.002088\n",
      "Epoch 82 train accuracy: 4.175000190734863 test accuracy: 3.5999999046325684\n",
      "Epoch: 83 \tTraining Loss: 0.012328\n",
      "Epoch 83 train accuracy: 4.525000095367432 test accuracy: 3.5\n",
      "Epoch: 84 \tTraining Loss: 0.001148\n",
      "Epoch 84 train accuracy: 4.275000095367432 test accuracy: 3.5999999046325684\n",
      "Epoch: 85 \tTraining Loss: 0.447469\n",
      "Epoch 85 train accuracy: 4.525000095367432 test accuracy: 3.5\n",
      "Epoch: 86 \tTraining Loss: 0.003557\n",
      "Epoch 86 train accuracy: 4.650000095367432 test accuracy: 3.5999999046325684\n",
      "Epoch: 87 \tTraining Loss: 0.002048\n",
      "Epoch 87 train accuracy: 4.324999809265137 test accuracy: 3.5\n",
      "Epoch: 88 \tTraining Loss: 0.010931\n",
      "Epoch 88 train accuracy: 4.375 test accuracy: 3.5999999046325684\n",
      "Epoch: 89 \tTraining Loss: 0.102064\n",
      "Epoch 89 train accuracy: 4.275000095367432 test accuracy: 3.5999999046325684\n",
      "Epoch: 90 \tTraining Loss: 0.008830\n",
      "Epoch 90 train accuracy: 4.125 test accuracy: 3.5999999046325684\n",
      "Epoch: 91 \tTraining Loss: 0.004061\n",
      "Epoch 91 train accuracy: 4.074999809265137 test accuracy: 3.5\n",
      "Epoch: 92 \tTraining Loss: 0.002041\n",
      "Epoch 92 train accuracy: 4.525000095367432 test accuracy: 3.5\n",
      "Epoch: 93 \tTraining Loss: 0.002297\n",
      "Epoch 93 train accuracy: 4.625 test accuracy: 3.5999999046325684\n",
      "Epoch: 94 \tTraining Loss: 0.008308\n",
      "Epoch 94 train accuracy: 4.349999904632568 test accuracy: 3.5\n",
      "Epoch: 95 \tTraining Loss: 0.006851\n",
      "Epoch 95 train accuracy: 4.574999809265137 test accuracy: 3.5999999046325684\n",
      "Epoch: 96 \tTraining Loss: 0.001039\n",
      "Epoch 96 train accuracy: 4.525000095367432 test accuracy: 3.5\n",
      "Epoch: 97 \tTraining Loss: 0.013976\n",
      "Epoch 97 train accuracy: 4.625 test accuracy: 3.5999999046325684\n",
      "Epoch: 98 \tTraining Loss: 0.005234\n",
      "Epoch 98 train accuracy: 4.425000190734863 test accuracy: 3.5\n",
      "Epoch: 99 \tTraining Loss: 0.002005\n",
      "Epoch 99 train accuracy: 4.425000190734863 test accuracy: 3.5999999046325684\n",
      "Epoch: 100 \tTraining Loss: 0.010555\n"
     ]
    }
   ],
   "source": [
    "model.train()\n",
    "train_loss = []\n",
    "\n",
    "try:\n",
    "    for epoch in range(epochs):\n",
    "        print(f\"Epoch {epoch} train accuracy: {eval_acc(model, train_dataloader)} \"\n",
    "                f\"test accuracy: {eval_acc(model, test_dataloader)}\")\n",
    "\n",
    "        #Within each epoch run the subsets of data = batch sizes.\n",
    "        for x_batch, y_batch in train_dataloader:\n",
    "            optimizer.zero_grad()\n",
    "            y_pred = model(x_batch)\n",
    "            y_pred = y_pred.view(-1)\n",
    "            y_pred = y_pred.float()\n",
    "            y_batch = y_batch.float()\n",
    "            # print(\"dim output nel train\", y_pred.shape, y_batch.shape)\n",
    "            loss = loss_fn(y_pred, y_batch)\n",
    "            loss.backward()\n",
    "            optimizer.step()\n",
    "        train_loss.append(loss.item())\n",
    "        print('Epoch: {} \\tTraining Loss: {:.6f}'.format(epoch+1, loss.item()))\n",
    "except KeyboardInterrupt:\n",
    "    pass"
   ]
  },
  {
   "cell_type": "code",
   "execution_count": 92,
   "metadata": {},
   "outputs": [
    {
     "data": {
      "image/png": "[encoded data removed]",
      "text/plain": [
       "<Figure size 432x288 with 1 Axes>"
      ]
     },
     "metadata": {
      "needs_background": "light"
     },
     "output_type": "display_data"
    }
   ],
   "source": [
    "plt.plot(train_loss)\n",
    "plt.title(\"Training Loss\")\n",
    "plt.xlabel(\"epochs\")\n",
    "plt.show()"
   ]
  },
  {
   "cell_type": "code",
   "execution_count": null,
   "metadata": {},
   "outputs": [],
   "source": []
  }
 ],
 "metadata": {
  "kernelspec": {
   "display_name": "Python 3",
   "language": "python",
   "name": "python3"
  },
  "language_info": {
   "codemirror_mode": {
    "name": "ipython",
    "version": 3
   },
   "file_extension": ".py",
   "mimetype": "text/x-python",
   "name": "python",
   "nbconvert_exporter": "python",
   "pygments_lexer": "ipython3",
   "version": "3.9.12"
  },
  "orig_nbformat": 4
 },
 "nbformat": 4,
 "nbformat_minor": 2
}
