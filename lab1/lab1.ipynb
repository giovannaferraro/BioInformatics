{
 "cells": [
  {
   "cell_type": "code",
   "execution_count": 41,
   "id": "3757ecc3-3b46-4e35-bfdd-6b81cd1e555a",
   "metadata": {},
   "outputs": [],
   "source": [
    "import os\n",
    "from collections import Counter\n",
    "fasta_file = os.path.abspath(\"Simulated_fasta.fa\")"
   ]
  },
  {
   "attachments": {},
   "cell_type": "markdown",
   "id": "e76b5d68",
   "metadata": {},
   "source": [
    "## assignment 1"
   ]
  },
  {
   "attachments": {},
   "cell_type": "markdown",
   "id": "0fdda3aa",
   "metadata": {},
   "source": [
    "1. read how many A, C, G, T are present in the fasma file"
   ]
  },
  {
   "cell_type": "code",
   "execution_count": 18,
   "id": "f64f1991-4159-4853-ab5e-da10b855f428",
   "metadata": {},
   "outputs": [
    {
     "data": {
      "text/plain": [
       "{'A': 16, 'T': 17, 'C': 21, 'G': 26}"
      ]
     },
     "execution_count": 18,
     "metadata": {},
     "output_type": "execute_result"
    }
   ],
   "source": [
    "# Define a function to count nucleotides in a FASTA file\n",
    "c = Counter()\n",
    "def count_nucleotides(fasta_file):\n",
    "    with open(fasta_file, \"r\") as f:\n",
    "        for line in f:\n",
    "            line = line.strip()\n",
    "            if line[0] == \">\":\n",
    "                continue\n",
    "            c.update(line)\n",
    "\n",
    "# Call the function and get the counts\n",
    "count_nucleotides(fasta_file)\n",
    "counter"
   ]
  },
  {
   "attachments": {},
   "cell_type": "markdown",
   "id": "d9b436f2",
   "metadata": {},
   "source": [
    "2. read how many low complexity sequences there are in the file"
   ]
  },
  {
   "cell_type": "code",
   "execution_count": 45,
   "id": "6e15267e-7604-4327-a590-039404e8a77a",
   "metadata": {},
   "outputs": [
    {
     "name": "stdout",
     "output_type": "stream",
     "text": [
      "14\n"
     ]
    }
   ],
   "source": [
    "list = [\"A\"*6, \"C\"*6, \"T\"*6, \"G\"*6]\n",
    "def has_low_complexity_sequence(sequence):\n",
    "    count=0\n",
    "    with open(fasta_file, \"r\") as f:\n",
    "        for line in f:\n",
    "            line = line.strip()\n",
    "            if line[0] == \">\":\n",
    "                continue\n",
    "            for lc in list:\n",
    "                if lc in line:\n",
    "                    count +=1\n",
    "    return count\n",
    "       \n",
    "clc = has_low_complexity_sequence(fasta_file)\n",
    "print(clc)"
   ]
  },
  {
   "cell_type": "markdown",
   "id": "0b770042-d122-4efd-b7b5-bb8524c4d283",
   "metadata": {},
   "source": [
    "3. Count GC strings higher than a threshold"
   ]
  },
  {
   "cell_type": "code",
   "execution_count": 59,
   "id": "1e1b6f82-9c8f-4e7e-9c0e-d342b88703f1",
   "metadata": {},
   "outputs": [
    {
     "data": {
      "text/plain": [
       "{'read_id_27': 11, 'read_id_29': 10, 'read_id_90': 11}"
      ]
     },
     "execution_count": 59,
     "metadata": {},
     "output_type": "execute_result"
    }
   ],
   "source": [
    "def count_GC(file, th):\n",
    "    count = 0\n",
    "    ids={}\n",
    "    with open(fasta_file, \"r\") as f:\n",
    "        for line in f:\n",
    "            line = line.strip()\n",
    "            if line[0] == \">\":\n",
    "                id = line[1:]\n",
    "            if line.count(\"GC\") > th:\n",
    "                ids[id] = line.count(\"GC\")\n",
    "    return ids\n",
    "\n",
    "d = count_GC(fasta_file, 9)\n",
    "d"
   ]
  },
  {
   "attachments": {},
   "cell_type": "markdown",
   "id": "01c76d5d",
   "metadata": {},
   "source": [
    "## Assignment 2"
   ]
  },
  {
   "attachments": {},
   "cell_type": "markdown",
   "id": "8038353e",
   "metadata": {},
   "source": [
    "Write a python program to compare two fasta files. The two fasta files are passed as first and second argument from the command line."
   ]
  },
  {
   "cell_type": "code",
   "execution_count": null,
   "id": "92717d51",
   "metadata": {},
   "outputs": [],
   "source": []
  }
 ],
 "metadata": {
  "kernelspec": {
   "display_name": "Python 3 (ipykernel)",
   "language": "python",
   "name": "python3"
  },
  "language_info": {
   "codemirror_mode": {
    "name": "ipython",
    "version": 3
   },
   "file_extension": ".py",
   "mimetype": "text/x-python",
   "name": "python",
   "nbconvert_exporter": "python",
   "pygments_lexer": "ipython3",
   "version": "3.10.10"
  }
 },
 "nbformat": 4,
 "nbformat_minor": 5
}
