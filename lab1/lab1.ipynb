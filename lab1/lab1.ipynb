{
 "cells": [
  {
   "cell_type": "code",
   "execution_count": 1,
   "id": "3757ecc3-3b46-4e35-bfdd-6b81cd1e555a",
   "metadata": {},
   "outputs": [],
   "source": [
    "import os\n",
    "fasta_file = os.path.abspath(\"file1.fa\")"
   ]
  },
  {
   "attachments": {},
   "cell_type": "markdown",
   "id": "e76b5d68",
   "metadata": {},
   "source": [
    "## assignment 1"
   ]
  },
  {
   "attachments": {},
   "cell_type": "markdown",
   "id": "0fdda3aa",
   "metadata": {},
   "source": [
    "1. read how many A, C, G, T are present in the fasma file"
   ]
  },
  {
   "cell_type": "code",
   "execution_count": 2,
   "id": "f64f1991-4159-4853-ab5e-da10b855f428",
   "metadata": {},
   "outputs": [
    {
     "name": "stdout",
     "output_type": "stream",
     "text": [
      "A: 16\n",
      "C: 21\n",
      "G: 26\n",
      "T: 17\n"
     ]
    }
   ],
   "source": [
    "# Define a function to count nucleotides in a FASTA file\n",
    "def count_nucleotides(fasta_file):\n",
    "    # Initialize counters for each nucleotide\n",
    "    count_A = 0\n",
    "    count_C = 0\n",
    "    count_G = 0\n",
    "    count_T = 0\n",
    "\n",
    "    with open(fasta_file, \"r\") as f:\n",
    "        # Initialize a flag to skip the first line (header)\n",
    "        skip_header = True\n",
    "\n",
    "        for line in f:\n",
    "            # Skip the header line\n",
    "            if skip_header:\n",
    "                skip_header = False\n",
    "                continue\n",
    "\n",
    "            # Count nucleotides in the sequence\n",
    "            count_A += line.count(\"A\")\n",
    "            count_C += line.count(\"C\")\n",
    "            count_G += line.count(\"G\")\n",
    "            count_T += line.count(\"T\")\n",
    "\n",
    "    return count_A, count_C, count_G, count_T\n",
    "    \n",
    "# Call the function and get the counts\n",
    "A, C, G, T = count_nucleotides(fasta_file)\n",
    "\n",
    "# Print the results\n",
    "print(f\"A: {A}\")\n",
    "print(f\"C: {C}\")\n",
    "print(f\"G: {G}\")\n",
    "print(f\"T: {T}\")"
   ]
  },
  {
   "attachments": {},
   "cell_type": "markdown",
   "id": "d9b436f2",
   "metadata": {},
   "source": [
    "2. read how many low complexity sequences there are in the file"
   ]
  },
  {
   "cell_type": "code",
   "execution_count": 3,
   "id": "6e15267e-7604-4327-a590-039404e8a77a",
   "metadata": {},
   "outputs": [],
   "source": [
    "# Define a function to check for low complexity sequences in a string\n",
    "def has_low_complexity_sequence(sequence, threshold=5):\n",
    "    # Define a list of low complexity characters (you can modify this as needed)\n",
    "    low_complexity_chars = ['A', 'T', 'C', 'G']\n",
    "\n",
    "    # Initialize a counter for consecutive low complexity characters\n",
    "    consecutive_count = 0\n",
    "\n",
    "    # Iterate through the sequence\n",
    "    for char in sequence:\n",
    "        if char.upper() in low_complexity_chars:\n",
    "            consecutive_count += 1\n",
    "        else:\n",
    "            consecutive_count = 0\n",
    "\n",
    "        # Check if the consecutive count exceeds the threshold\n",
    "        if consecutive_count >= threshold:\n",
    "            return True\n",
    "\n",
    "    # No low complexity sequence found\n",
    "    return False\n",
    "\n",
    "# Define a function to count reads with low complexity sequences\n",
    "def count_reads_with_low_complexity(fasta_file):\n",
    "    # Initialize a count for reads with low complexity sequences\n",
    "    low_complexity_count = 0\n",
    "\n",
    "    # Open the FASTA file and read its contents\n",
    "    with open(fasta_file, \"r\") as file:\n",
    "        current_sequence = \"\"\n",
    "        is_header = True\n",
    "\n",
    "        for line in file:\n",
    "            line = line.strip()\n",
    "            if line.startswith(\">\"):\n",
    "                if not is_header:\n",
    "                    # Check the current sequence for low complexity\n",
    "                    if has_low_complexity_sequence(current_sequence):\n",
    "                        low_complexity_count += 1\n",
    "                    current_sequence = \"\"\n",
    "                is_header = False\n",
    "            else:\n",
    "                current_sequence += line\n",
    "\n",
    "        # Check the last sequence in the file\n",
    "        if has_low_complexity_sequence(current_sequence):\n",
    "            low_complexity_count += 1\n",
    "\n",
    "    return low_complexity_count\n",
    "\n",
    "\n"
   ]
  },
  {
   "cell_type": "code",
   "execution_count": 4,
   "id": "91b6e201-79b6-4c7f-86e0-ddae5b56bac4",
   "metadata": {},
   "outputs": [
    {
     "name": "stdout",
     "output_type": "stream",
     "text": [
      "Number of reads with at least one low complexity sequence: 5\n"
     ]
    }
   ],
   "source": [
    "count = count_reads_with_low_complexity(fasta_file)\n",
    "\n",
    "print(f\"Number of reads with at least one low complexity sequence: {count}\")\n",
    "\n",
    "# but what if I make some changes?"
   ]
  },
  {
   "attachments": {},
   "cell_type": "markdown",
   "id": "01c76d5d",
   "metadata": {},
   "source": [
    "## Assignment 2"
   ]
  },
  {
   "attachments": {},
   "cell_type": "markdown",
   "id": "8038353e",
   "metadata": {},
   "source": [
    "Write a python program to compare two fasta files. The two fasta files are passed as first and second argument from the command line."
   ]
  },
  {
   "cell_type": "code",
   "execution_count": 20,
   "id": "b5c18228",
   "metadata": {},
   "outputs": [],
   "source": [
    "def read_fasta(file_path):\n",
    "    sequences = {}\n",
    "    current_seq_name = None\n",
    "    with open(file_path, 'r') as file:\n",
    "        for line in file:\n",
    "            line = line.strip()\n",
    "            if line.startswith('>'):\n",
    "                current_seq_name = line[1:]\n",
    "                sequences[current_seq_name] = \"\"\n",
    "            else:\n",
    "                sequences[current_seq_name] += line\n",
    "    return sequences"
   ]
  },
  {
   "cell_type": "code",
   "execution_count": 24,
   "id": "1f81e449",
   "metadata": {},
   "outputs": [],
   "source": [
    "def compare_fasta_files(file1, file2):\n",
    "    sequences1 = read_fasta(file1)\n",
    "    sequences2 = read_fasta(file2)"
   ]
  },
  {
   "cell_type": "code",
   "execution_count": 22,
   "id": "5aee08c8",
   "metadata": {},
   "outputs": [
    {
     "name": "stdout",
     "output_type": "stream",
     "text": [
      "{'read_4', 'read_2', 'read_3', 'read_1', 'read_5'}\n"
     ]
    }
   ],
   "source": [
    "import sys\n",
    "import os\n",
    "file1 = os.path.abspath(\"file1.fa\")\n",
    "file2 = os.path.abspath(\"file2.fa\")\n",
    "\n",
    "compare_fasta_files(file1, file2)\n",
    "\n",
    "#if __name__ == \"__main__\":\n",
    "#    if len(sys.argv) != 3:\n",
    "#       print(\"Usage: python compare_fasta.py <file1.fasta> <file2.fasta>\")\n",
    "#       sys.exit(1)\n",
    "\n",
    "#    file1_path = sys.argv[1]\n",
    "#    file2_path = sys.argv[2]"
   ]
  },
  {
   "cell_type": "code",
   "execution_count": null,
   "id": "92717d51",
   "metadata": {},
   "outputs": [],
   "source": []
  }
 ],
 "metadata": {
  "kernelspec": {
   "display_name": "Python 3 (ipykernel)",
   "language": "python",
   "name": "python3"
  },
  "language_info": {
   "codemirror_mode": {
    "name": "ipython",
    "version": 3
   },
   "file_extension": ".py",
   "mimetype": "text/x-python",
   "name": "python",
   "nbconvert_exporter": "python",
   "pygments_lexer": "ipython3",
   "version": "3.9.12"
  }
 },
 "nbformat": 4,
 "nbformat_minor": 5
}
